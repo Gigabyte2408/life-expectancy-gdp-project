{
 "cells": [
  {
   "cell_type": "code",
   "execution_count": 6,
   "metadata": {},
   "outputs": [],
   "source": [
    "import pandas as pd\n",
    "import numpy as np\n",
    "from matplotlib import pyplot as plt\n",
    "import seaborn as sns\n",
    "import statsmodels.api as sm\n",
    "# Objectives:\n",
    "#Average Life Expectancy for each country\n",
    "#Life expectancy over time for each country\n",
    "#Life Expectancy distribution for each country\n",
    "#Average GDP for each country\n",
    "#GDP over time for each country\n",
    "#GDP distribution for each country\n",
    "#Life Expectancy vs GDP for each country\n",
    "#Relationship between both for each country\n"
   ]
  },
  {
   "cell_type": "code",
   "execution_count": 44,
   "metadata": {},
   "outputs": [
    {
     "name": "stdout",
     "output_type": "stream",
     "text": [
      "Average GDP for Chile: GDP    1.697888e+11\n",
      "dtype: float64\n",
      "Average Life Expectancy for Chile: Life Expectancy    78.94375\n",
      "dtype: float64\n",
      "Average GDP for China: GDP    4.957714e+12\n",
      "dtype: float64\n",
      "Average Life Expectancy for China: Life Expectancy    74.2625\n",
      "dtype: float64\n",
      "Average GDP for Germany: GDP    3.094776e+12\n",
      "dtype: float64\n",
      "Average Life Expectancy for Germany: Life Expectancy    79.65625\n",
      "dtype: float64\n",
      "Average GDP for Mexico: GDP    9.766506e+11\n",
      "dtype: float64\n",
      "Average Life Expectancy for Mexico: Life Expectancy    75.71875\n",
      "dtype: float64\n",
      "Average GDP for United States of America: GDP    1.407500e+13\n",
      "dtype: float64\n",
      "Average Life Expectancy for United States of America: Life Expectancy    78.0625\n",
      "dtype: float64\n",
      "Average GDP for Zimbabwe: GDP    9.062580e+09\n",
      "dtype: float64\n",
      "Average Life Expectancy for Zimbabwe: Life Expectancy    50.09375\n",
      "dtype: float64\n"
     ]
    },
    {
     "name": "stderr",
     "output_type": "stream",
     "text": [
      "/var/folders/cn/qrzvtdnd3wg0270pcwylrl5m0000gn/T/ipykernel_29981/2722094203.py:5: FutureWarning: Passing a set as an indexer is deprecated and will raise in a future version. Use a list instead.\n",
      "  print(f'''Average {var} for {count}: {df[df.Country == count][{var}].mean()}''')\n",
      "/var/folders/cn/qrzvtdnd3wg0270pcwylrl5m0000gn/T/ipykernel_29981/2722094203.py:5: FutureWarning: Passing a set as an indexer is deprecated and will raise in a future version. Use a list instead.\n",
      "  print(f'''Average {var} for {count}: {df[df.Country == count][{var}].mean()}''')\n",
      "/var/folders/cn/qrzvtdnd3wg0270pcwylrl5m0000gn/T/ipykernel_29981/2722094203.py:5: FutureWarning: Passing a set as an indexer is deprecated and will raise in a future version. Use a list instead.\n",
      "  print(f'''Average {var} for {count}: {df[df.Country == count][{var}].mean()}''')\n",
      "/var/folders/cn/qrzvtdnd3wg0270pcwylrl5m0000gn/T/ipykernel_29981/2722094203.py:5: FutureWarning: Passing a set as an indexer is deprecated and will raise in a future version. Use a list instead.\n",
      "  print(f'''Average {var} for {count}: {df[df.Country == count][{var}].mean()}''')\n",
      "/var/folders/cn/qrzvtdnd3wg0270pcwylrl5m0000gn/T/ipykernel_29981/2722094203.py:5: FutureWarning: Passing a set as an indexer is deprecated and will raise in a future version. Use a list instead.\n",
      "  print(f'''Average {var} for {count}: {df[df.Country == count][{var}].mean()}''')\n",
      "/var/folders/cn/qrzvtdnd3wg0270pcwylrl5m0000gn/T/ipykernel_29981/2722094203.py:5: FutureWarning: Passing a set as an indexer is deprecated and will raise in a future version. Use a list instead.\n",
      "  print(f'''Average {var} for {count}: {df[df.Country == count][{var}].mean()}''')\n",
      "/var/folders/cn/qrzvtdnd3wg0270pcwylrl5m0000gn/T/ipykernel_29981/2722094203.py:5: FutureWarning: Passing a set as an indexer is deprecated and will raise in a future version. Use a list instead.\n",
      "  print(f'''Average {var} for {count}: {df[df.Country == count][{var}].mean()}''')\n",
      "/var/folders/cn/qrzvtdnd3wg0270pcwylrl5m0000gn/T/ipykernel_29981/2722094203.py:5: FutureWarning: Passing a set as an indexer is deprecated and will raise in a future version. Use a list instead.\n",
      "  print(f'''Average {var} for {count}: {df[df.Country == count][{var}].mean()}''')\n",
      "/var/folders/cn/qrzvtdnd3wg0270pcwylrl5m0000gn/T/ipykernel_29981/2722094203.py:5: FutureWarning: Passing a set as an indexer is deprecated and will raise in a future version. Use a list instead.\n",
      "  print(f'''Average {var} for {count}: {df[df.Country == count][{var}].mean()}''')\n",
      "/var/folders/cn/qrzvtdnd3wg0270pcwylrl5m0000gn/T/ipykernel_29981/2722094203.py:5: FutureWarning: Passing a set as an indexer is deprecated and will raise in a future version. Use a list instead.\n",
      "  print(f'''Average {var} for {count}: {df[df.Country == count][{var}].mean()}''')\n",
      "/var/folders/cn/qrzvtdnd3wg0270pcwylrl5m0000gn/T/ipykernel_29981/2722094203.py:5: FutureWarning: Passing a set as an indexer is deprecated and will raise in a future version. Use a list instead.\n",
      "  print(f'''Average {var} for {count}: {df[df.Country == count][{var}].mean()}''')\n",
      "/var/folders/cn/qrzvtdnd3wg0270pcwylrl5m0000gn/T/ipykernel_29981/2722094203.py:5: FutureWarning: Passing a set as an indexer is deprecated and will raise in a future version. Use a list instead.\n",
      "  print(f'''Average {var} for {count}: {df[df.Country == count][{var}].mean()}''')\n"
     ]
    }
   ],
   "source": [
    "df = pd.read_csv('/users/ghanimsial/desktop/code cademy/data science machine learning specialist/life expectancy gdp project/all_data.csv')\n",
    "#Chile\n",
    "df = df.rename(columns = {'Life expectancy at birth (years)': 'Life Expectancy'})\n",
    "def average_var_country(df, count, var):\n",
    "    print(f'''Average {var} for {count}: {df[df.Country == count][{var}].mean()}''')\n",
    "\n",
    "countries = [i for i in df.Country.unique()]\n",
    "\n",
    "for i in countries:\n",
    "    average_var_country(df, i, 'GDP')\n",
    "    average_var_country(df, i, 'Life Expectancy')\n"
   ]
  }
 ],
 "metadata": {
  "kernelspec": {
   "display_name": "Python 3.9.12",
   "language": "python",
   "name": "python3"
  },
  "language_info": {
   "codemirror_mode": {
    "name": "ipython",
    "version": 3
   },
   "file_extension": ".py",
   "mimetype": "text/x-python",
   "name": "python",
   "nbconvert_exporter": "python",
   "pygments_lexer": "ipython3",
   "version": "3.9.12"
  },
  "vscode": {
   "interpreter": {
    "hash": "cecaaf92fe84ad956c241f7626fd06c7677a0137b906da7e1f0cf1153478e915"
   }
  }
 },
 "nbformat": 4,
 "nbformat_minor": 4
}
