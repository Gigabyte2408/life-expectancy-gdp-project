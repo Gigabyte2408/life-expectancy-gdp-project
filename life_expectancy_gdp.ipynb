{
 "cells": [
  {
   "cell_type": "code",
   "execution_count": 1,
   "metadata": {},
   "outputs": [
    {
     "name": "stdout",
     "output_type": "stream",
     "text": [
      "hello\n"
     ]
    }
   ],
   "source": [
    "# Objectives:\n",
    "#Average Life Expectancy for each country\n",
    "#Life expectancy over time for each country\n",
    "#Life Expectancy distribution for each country\n",
    "#Average GDP for each country\n",
    "#GDP over time for each country\n",
    "#GDP distribution for each country\n",
    "#Life Expectancy vs GDP for each country\n",
    "#Relationship between both for each country\n"
   ]
  }
 ],
 "metadata": {
  "kernelspec": {
   "display_name": "Python 3.9.12",
   "language": "python",
   "name": "python3"
  },
  "language_info": {
   "codemirror_mode": {
    "name": "ipython",
    "version": 3
   },
   "file_extension": ".py",
   "mimetype": "text/x-python",
   "name": "python",
   "nbconvert_exporter": "python",
   "pygments_lexer": "ipython3",
   "version": "3.9.12"
  },
  "vscode": {
   "interpreter": {
    "hash": "cecaaf92fe84ad956c241f7626fd06c7677a0137b906da7e1f0cf1153478e915"
   }
  }
 },
 "nbformat": 4,
 "nbformat_minor": 4
}
